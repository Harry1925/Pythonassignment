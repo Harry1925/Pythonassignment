{
 "cells": [
  {
   "cell_type": "markdown",
   "id": "d225b150-0c3d-4783-8977-5a04e8cc4762",
   "metadata": {},
   "source": [
    "Calculate the sum, difference, product, and quotient of two numbers."
   ]
  },
  {
   "cell_type": "code",
   "execution_count": 1,
   "id": "04ab3f97-55ca-49e3-b624-6bfcec2d8a96",
   "metadata": {},
   "outputs": [
    {
     "name": "stdout",
     "output_type": "stream",
     "text": [
      "64\n",
      "60\n",
      "124\n",
      "31.0\n"
     ]
    }
   ],
   "source": [
    "num1 = 62\n",
    "num2 = 2\n",
    "# Here is Sum of two numbers\n",
    "add = num1+num2\n",
    "print(add)\n",
    "# Here is Difference of two numbers\n",
    "diff= num1-num2\n",
    "print(diff)\n",
    "# Here is product of two numbers\n",
    "prod= num1*num2\n",
    "print(prod)\n",
    "# Here is quotient of two numbers\n",
    "quot= num1/num2\n",
    "print(quot)"
   ]
  },
  {
   "cell_type": "code",
   "execution_count": null,
   "id": "8f66b89c-ca8a-4e7a-a106-a9b47e3d2c2a",
   "metadata": {},
   "outputs": [],
   "source": [
    "Perform various assignment operations on a variable."
   ]
  },
  {
   "cell_type": "code",
   "execution_count": 2,
   "id": "f02040b5-d7b2-4034-93f7-717de69ac50e",
   "metadata": {},
   "outputs": [
    {
     "name": "stdout",
     "output_type": "stream",
     "text": [
      "Hello World\n",
      "60\n",
      "46\n",
      "270\n",
      "22.0\n"
     ]
    }
   ],
   "source": [
    "# Assignment operator (Assignmet)\n",
    "var1 = 'Hello World'\n",
    "print(var1)\n",
    "\n",
    "# Assignment Operator (Addition Assignment)\n",
    "var2 = 58\n",
    "var2 += 2         # we also write it in different way like var2= var2 + 2\n",
    "print(var2)\n",
    "\n",
    "# Assignment Operator ( Substraction Assignment)\n",
    "var3 = 48\n",
    "var3 -= 2      \n",
    "print(var3)     # we will also write it as var3= var3 - 2\n",
    "\n",
    "# assignment Operator (Multiplication Assignment)\n",
    "var4 = 45\n",
    "var4 *= 6      \n",
    "print(var4)    # we will also write it as var4= var4 * 6\n",
    "\n",
    "# Assignment operator (Division Assignment)\n",
    "var5=66\n",
    "var5 /= 3\n",
    "print(var5) # also as var5= var5 / 3"
   ]
  },
  {
   "cell_type": "markdown",
   "id": "ee935513-3a92-45bd-a211-5b821c0ee101",
   "metadata": {},
   "source": [
    "Compare two numbers and print the results."
   ]
  },
  {
   "cell_type": "code",
   "execution_count": 3,
   "id": "bdf6033a-e319-446a-a448-7b29cc86f2ee",
   "metadata": {},
   "outputs": [
    {
     "name": "stdout",
     "output_type": "stream",
     "text": [
      "True\n",
      "False\n",
      "False\n",
      "True\n",
      "False\n",
      "True\n"
     ]
    }
   ],
   "source": [
    "num1=34\n",
    "num2=56\n",
    "# not equals to\n",
    "print(num1!=num2)\n",
    "# greater than\n",
    "print(num1>num2)\n",
    "#equals to\n",
    "print(num1==num2)\n",
    "#smaller than equals to\n",
    "print(num1<=num2)\n",
    "# greater than equals two \n",
    "print(num1>=num2)\n",
    "# smaller than\n",
    "print(num1<num2)"
   ]
  },
  {
   "cell_type": "markdown",
   "id": "b6350367-d73d-4deb-bc6d-6b3f38c3c0ef",
   "metadata": {},
   "source": [
    "Check conditions using logical operators."
   ]
  },
  {
   "cell_type": "code",
   "execution_count": 4,
   "id": "0506b11e-aacf-4b3b-8547-78b4590ff326",
   "metadata": {},
   "outputs": [
    {
     "name": "stdout",
     "output_type": "stream",
     "text": [
      "True\n",
      "False\n",
      "False\n",
      "False\n",
      "True\n",
      "True\n",
      "True\n",
      "False\n",
      "False\n",
      "True\n"
     ]
    }
   ],
   "source": [
    "# and \n",
    "print(True and True)\n",
    "print(True and False)\n",
    "print(False and True)\n",
    "print(False and False)\n",
    "\n",
    "##or\n",
    "print(True or True)\n",
    "print(True or False)\n",
    "print(False or True)\n",
    "print(False or False)\n",
    "\n",
    "###not\n",
    "print(not(True))\n",
    "print(not(False))"
   ]
  },
  {
   "cell_type": "markdown",
   "id": "2bd221c6-25df-440f-8460-e5948688768c",
   "metadata": {},
   "source": [
    "Check the identity of variables."
   ]
  },
  {
   "cell_type": "code",
   "execution_count": 5,
   "id": "a2cb17d1-0b56-4853-b7f4-06c111e76aeb",
   "metadata": {
    "tags": []
   },
   "outputs": [
    {
     "name": "stdout",
     "output_type": "stream",
     "text": [
      "<class 'str'>\n",
      "<class 'int'>\n",
      "<class 'float'>\n",
      "<class 'bool'>\n",
      "<class 'bool'>\n"
     ]
    }
   ],
   "source": [
    "#string\n",
    "var1 = \"Hello World\"\n",
    "print(type(var1))\n",
    "#integers\n",
    "var2 = 95\n",
    "print(type(var2))\n",
    "#float\n",
    "var3 = 786.76\n",
    "print(type(var3))\n",
    "#bool\n",
    "var4 = True\n",
    "var4_2= False\n",
    "print(type(var4))\n",
    "print(type(var4_2))"
   ]
  },
  {
   "cell_type": "markdown",
   "id": "38bab275-9738-42ab-8d12-3e3fce893e95",
   "metadata": {},
   "source": [
    "Perform bitwise operations on any two integers."
   ]
  },
  {
   "cell_type": "code",
   "execution_count": 6,
   "id": "63a48e5a-9de0-4f6c-9aee-3033a07145c0",
   "metadata": {},
   "outputs": [
    {
     "name": "stdout",
     "output_type": "stream",
     "text": [
      "50\n",
      "0\n",
      "-49\n",
      "-3\n",
      "50\n",
      "12\n",
      "192\n"
     ]
    }
   ],
   "source": [
    "var1 = 48\n",
    "var2 = 2\n",
    "#or\n",
    "print(var1|var2)\n",
    "#and\n",
    "print(var1&var2)\n",
    "#not\n",
    "print(~var1)\n",
    "print(~var2)\n",
    "#xor\n",
    "print(var1^var2)\n",
    "#right shift\n",
    "print(var1>>var2)\n",
    "#left shift\n",
    "print(var1<<var2)"
   ]
  },
  {
   "cell_type": "markdown",
   "id": "ea7c616e-f016-4d13-a3b1-608c7cad149a",
   "metadata": {},
   "source": [
    "Use unary operators to change the sign of a number."
   ]
  },
  {
   "cell_type": "code",
   "execution_count": null,
   "id": "c06eb083-6fce-4f4f-a1cb-af970fd2b530",
   "metadata": {},
   "outputs": [],
   "source": []
  }
 ],
 "metadata": {
  "kernelspec": {
   "display_name": "Python 3 (ipykernel)",
   "language": "python",
   "name": "python3"
  },
  "language_info": {
   "codemirror_mode": {
    "name": "ipython",
    "version": 3
   },
   "file_extension": ".py",
   "mimetype": "text/x-python",
   "name": "python",
   "nbconvert_exporter": "python",
   "pygments_lexer": "ipython3",
   "version": "3.10.8"
  }
 },
 "nbformat": 4,
 "nbformat_minor": 5
}
