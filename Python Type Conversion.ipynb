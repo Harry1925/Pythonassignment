{
 "cells": [
  {
   "cell_type": "markdown",
   "id": "58582614-e24b-464d-b606-fd6363c9e999",
   "metadata": {},
   "source": [
    "Convert an integer to a floating-point number"
   ]
  },
  {
   "cell_type": "code",
   "execution_count": 1,
   "id": "1d13d3f8-2c8b-4c8c-bb36-f6ef1ba358bf",
   "metadata": {},
   "outputs": [
    {
     "name": "stdout",
     "output_type": "stream",
     "text": [
      "65.0\n"
     ]
    }
   ],
   "source": [
    "value1=65                    # Integer containing in a variable value1. \n",
    "valuefloat=float(value1)      # Now variable value1 which is an integer is converted into float.\n",
    "print(valuefloat)            # This code will print the desire output."
   ]
  },
  {
   "cell_type": "markdown",
   "id": "c41f2e21-1df3-4e8a-bc90-c1a88ed996ac",
   "metadata": {},
   "source": [
    "Convert a float to an integer."
   ]
  },
  {
   "cell_type": "code",
   "execution_count": 2,
   "id": "5c0e0733-bc5f-4e7c-aa23-381ea3149932",
   "metadata": {},
   "outputs": [
    {
     "name": "stdout",
     "output_type": "stream",
     "text": [
      "65\n"
     ]
    }
   ],
   "source": [
    "value2=65.0           # Now value2 is a variable that is containing a float value.\n",
    "value_int=int(value2)  # Now variable value2 which is a float is converted into integer.\n",
    "print(value_int)      # This code will print the desire output."
   ]
  },
  {
   "cell_type": "markdown",
   "id": "0f46cf16-a7d2-4337-8a0e-9dcabaa976d9",
   "metadata": {},
   "source": [
    "Convert an integer to a string."
   ]
  },
  {
   "cell_type": "code",
   "execution_count": 3,
   "id": "1f6484f4-0fd6-49a0-86d6-8cdc567c1e36",
   "metadata": {},
   "outputs": [
    {
     "name": "stdout",
     "output_type": "stream",
     "text": [
      "308\n"
     ]
    }
   ],
   "source": [
    "value3=308               #  Now in this case value3 is a variable containing an integer.\n",
    "value_str=str(value3)     #  Now over here variable value3 which is a integer is converted into a string.\n",
    "print(value_str)         # This code will print the desire output."
   ]
  },
  {
   "cell_type": "markdown",
   "id": "39ca19e9-932c-4330-a1ae-a3a29e11d269",
   "metadata": {},
   "source": [
    "Convert a list to a tuple."
   ]
  },
  {
   "cell_type": "code",
   "execution_count": 4,
   "id": "7faf98e7-8450-43e6-abca-2b734133522c",
   "metadata": {},
   "outputs": [
    {
     "name": "stdout",
     "output_type": "stream",
     "text": [
      "(2, 4, 6, 8, 10)\n"
     ]
    }
   ],
   "source": [
    "list_1 = [2,4,6,8,10]   # In this case list1 is a variable containing a list\n",
    "output= tuple(list_1)  # Now list1 is converted into tuple\n",
    "print(output)         # This code will print the desire output."
   ]
  },
  {
   "cell_type": "markdown",
   "id": "c71694a3-f51e-44de-8ddd-c217f9e3f143",
   "metadata": {},
   "source": [
    "Convert a tuple to a list."
   ]
  },
  {
   "cell_type": "code",
   "execution_count": 5,
   "id": "0f4696ac-2f6b-4b16-a7ea-45c2044c5405",
   "metadata": {},
   "outputs": [
    {
     "name": "stdout",
     "output_type": "stream",
     "text": [
      "[2, 4, 6]\n"
     ]
    }
   ],
   "source": [
    "tuple_1 = (2,4,6)       # In this case tuple1 is a variable containing a tuple \n",
    "output = list(tuple_1)  # Now tuple is converted into list\n",
    "print(output)          # This code will print the desire output i.e [2,4,6]"
   ]
  },
  {
   "cell_type": "markdown",
   "id": "462d04f1-e787-4c2c-b36a-ded4cf40de16",
   "metadata": {},
   "source": [
    "Convert a decimal number to binary."
   ]
  },
  {
   "cell_type": "code",
   "execution_count": 6,
   "id": "d32eb799-88fc-4b64-ae8c-096e42656caa",
   "metadata": {},
   "outputs": [
    {
     "name": "stdout",
     "output_type": "stream",
     "text": [
      "0b1000110111\n"
     ]
    }
   ],
   "source": [
    "number = 567          # Over here number is a variable containing a number.\n",
    "output = bin(number)   # Now number is converted into binary.\n",
    "print(output)            # This code will print the desire output."
   ]
  },
  {
   "cell_type": "markdown",
   "id": "095a7421-bb03-4fda-8868-321d8232caee",
   "metadata": {},
   "source": [
    "Convert a non-zero number to boolean."
   ]
  },
  {
   "cell_type": "code",
   "execution_count": null,
   "id": "03de666c-dd4a-47b0-84e7-77074ff5ba0a",
   "metadata": {},
   "outputs": [],
   "source": [
    "num = -26         # In this case Num is a variable that is containing a non zero no.\n",
    "output = bool(num)  # Over here the number is converted into boolean \n",
    "print(output)"
   ]
  }
 ],
 "metadata": {
  "kernelspec": {
   "display_name": "Python 3 (ipykernel)",
   "language": "python",
   "name": "python3"
  },
  "language_info": {
   "codemirror_mode": {
    "name": "ipython",
    "version": 3
   },
   "file_extension": ".py",
   "mimetype": "text/x-python",
   "name": "python",
   "nbconvert_exporter": "python",
   "pygments_lexer": "ipython3",
   "version": "3.10.8"
  }
 },
 "nbformat": 4,
 "nbformat_minor": 5
}
