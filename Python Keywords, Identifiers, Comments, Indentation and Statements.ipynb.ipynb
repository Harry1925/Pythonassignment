{
 "cells": [
  {
   "cell_type": "markdown",
   "id": "b721227d-ef22-40b6-b305-aebaee0764fb",
   "metadata": {},
   "source": [
    "Explain the significance of Python keywords and provide examples of five keywords"
   ]
  },
  {
   "cell_type": "markdown",
   "id": "cc82c08b-f884-4cc0-abdc-5794722f6634",
   "metadata": {},
   "source": [
    "Python keywords are pre-defined words that have some particular meanings and purpose within the Python. We can't use these keywords as variables name. given below are some of the examples of 5 significant keywords in python"
   ]
  },
  {
   "cell_type": "markdown",
   "id": "94fd3efb-6178-466d-af12-316826c33370",
   "metadata": {},
   "source": [
    "1>>> if else elif <<<"
   ]
  },
  {
   "cell_type": "markdown",
   "id": "fd518cce-b14e-4a86-860c-f81fbe5fc3ef",
   "metadata": {},
   "source": [
    "These are conditional keywords which allow the specific block of code to execute if some condition holds which we apply with the keyword holds true."
   ]
  },
  {
   "cell_type": "markdown",
   "id": "6f60d967-8c84-42cf-aba5-032cfcd5489d",
   "metadata": {},
   "source": [
    "if block >>> if some conditions holds true this block will execute elif block >>> if above if condition not holds true but condition in elif block hold true then this block will execute else >>>>> if none of the above confitions hold true then this block will execute."
   ]
  },
  {
   "cell_type": "code",
   "execution_count": 1,
   "id": "80809a0d-89c8-4a18-abf9-0471f2e56d34",
   "metadata": {},
   "outputs": [
    {
     "name": "stdout",
     "output_type": "stream",
     "text": [
      "Welcome!! You are elegible to screen this movie. keep your identity card ready\n"
     ]
    }
   ],
   "source": [
    "# IN EXAMPLE\n",
    "\n",
    "age=70\n",
    "if 0<age<18:\n",
    "    print('Oops!!! not eligible to screen this movie')\n",
    "elif age<=0 or age >= 100:\n",
    "    print('Invalid Input')\n",
    "else:\n",
    "    print('Welcome!! You are elegible to screen this movie. keep your identity card ready')"
   ]
  },
  {
   "cell_type": "markdown",
   "id": "c19af88c-0546-4c5b-a1f0-cc9e033f8e19",
   "metadata": {},
   "source": [
    "2.>>> while<<<< This keyword is used to create a loop that executes a block of code as long as a specified condition becomes True."
   ]
  },
  {
   "cell_type": "code",
   "execution_count": 2,
   "id": "f9dbd45b-1f07-4b96-9c1b-2f049186124a",
   "metadata": {},
   "outputs": [
    {
     "name": "stdout",
     "output_type": "stream",
     "text": [
      "5050\n"
     ]
    }
   ],
   "source": [
    "# IN EXAMPLE (sum of first 100 numbers)\n",
    "add=0\n",
    "output=0\n",
    "count=0\n",
    "while count < 100:\n",
    "    add += 1\n",
    "    output += add\n",
    "    count += 1\n",
    "print(output)"
   ]
  },
  {
   "cell_type": "markdown",
   "id": "bf5d441c-a3a0-45bb-b275-36e3f19882f9",
   "metadata": {},
   "source": [
    "3)>>>for<<< This keyword is used to iterate over a sequence in the given range or number of elements in list or number of characters in string"
   ]
  },
  {
   "cell_type": "code",
   "execution_count": 3,
   "id": "66c09d68-f727-458a-9ad9-d0f74e539560",
   "metadata": {},
   "outputs": [
    {
     "name": "stdout",
     "output_type": "stream",
     "text": [
      "2\n",
      "4\n",
      "6\n",
      "8\n",
      "10\n",
      "12\n",
      "14\n",
      "16\n",
      "18\n",
      "20\n",
      "apple\n",
      "mango\n",
      "chikoo\n"
     ]
    }
   ],
   "source": [
    "# In example 1 (print multiplication table of 2)\n",
    "\n",
    "for i in range (1,11):\n",
    "    print(2*i)\n",
    "    \n",
    "# In example 2\n",
    "\n",
    "fruit = [\"apple\", \"mango\", \"chikoo\"]\n",
    "\n",
    "for i in fruit:\n",
    "    print(i)"
   ]
  },
  {
   "cell_type": "markdown",
   "id": "14b1d21d-4c9c-46ae-aab0-26d9444b207b",
   "metadata": {},
   "source": [
    "4.>>>print<<< it will print the output after code is executed"
   ]
  },
  {
   "cell_type": "code",
   "execution_count": 4,
   "id": "0b99aee4-6f79-4ce3-9785-705b3f8390a2",
   "metadata": {},
   "outputs": [
    {
     "name": "stdout",
     "output_type": "stream",
     "text": [
      "Mango\n",
      "91125\n"
     ]
    }
   ],
   "source": [
    "# In example 1 (print the assigned value)\n",
    "\n",
    "a= 'Mango'\n",
    "\n",
    "print(a)\n",
    "\n",
    "# In example 2 (print the value after given arithmetic operation)\n",
    "\n",
    "a=45\n",
    "b=3\n",
    "output= a**b\n",
    "print(output)"
   ]
  },
  {
   "cell_type": "markdown",
   "id": "efbd62ff-e9f2-4e5f-83ff-cec9bc53f9dd",
   "metadata": {},
   "source": [
    "5)>>>type<<< it will simply print the type of value whether its bool,int,complex,string,float."
   ]
  },
  {
   "cell_type": "code",
   "execution_count": 5,
   "id": "f81693e1-144f-468d-acf1-7e895171363f",
   "metadata": {},
   "outputs": [
    {
     "name": "stdout",
     "output_type": "stream",
     "text": [
      "<class 'int'>\n",
      "<class 'str'>\n",
      "<class 'bool'>\n",
      "<class 'complex'>\n",
      "<class 'float'>\n"
     ]
    }
   ],
   "source": [
    "# In example\n",
    "\n",
    "a= 26\n",
    "b='Maharashtra'\n",
    "c= True\n",
    "d= 5+3j\n",
    "e= 658.36\n",
    "print(type(a))\n",
    "print(type(b))\n",
    "print(type(c))\n",
    "print(type(d))\n",
    "print(type(e))"
   ]
  },
  {
   "cell_type": "markdown",
   "id": "156a4a34-0891-4bda-b88e-da14eb3cf96b",
   "metadata": {},
   "source": [
    "Describe the rules for defining identifiers in Python and provide an example"
   ]
  },
  {
   "cell_type": "markdown",
   "id": "b81c7dba-ed36-4147-ba0e-68026dc9db3a",
   "metadata": {},
   "source": [
    "Identifiers consist of underscore, digits , and alphabets underscore but the identifier cannot start with a digit.\n",
    "\n",
    "Python is a case-sensitive for example if any variable a=20 it dosen't mean that A is also equals 20, both are different variables.\n",
    "\n",
    "Reserved keyword cannot be a identifier. There in Python has a list of reserved words that have predefined meanings and cannot be used as identifiers. For example, if, else, for, while, print etc.\n",
    "\n",
    "Special characters like #, $, %, etc are not allowed within identifiers.\n",
    "\n",
    "There is no limitation on the length of the identifier in Python, but it's good to keep them short and meaningful."
   ]
  },
  {
   "cell_type": "code",
   "execution_count": 1,
   "id": "492b586e-77bc-4f06-b5d6-c06b149e13f4",
   "metadata": {},
   "outputs": [
    {
     "ename": "SyntaxError",
     "evalue": "invalid decimal literal (1193172820.py, line 12)",
     "output_type": "error",
     "traceback": [
      "\u001b[0;36m  Cell \u001b[0;32mIn[1], line 12\u001b[0;36m\u001b[0m\n\u001b[0;31m    4number = 5                # Cannot start with a digit\u001b[0m\n\u001b[0m    ^\u001b[0m\n\u001b[0;31mSyntaxError\u001b[0m\u001b[0;31m:\u001b[0m invalid decimal literal\n"
     ]
    }
   ],
   "source": [
    "# example\n",
    "\n",
    "# Valid identifiers\n",
    "number = 34\n",
    "number1 = \"Hello world\"\n",
    "number_1 = True\n",
    "Output = None\n",
    "_integers = [1, 3, 4]\n",
    "\n",
    "# invalid identifiers\n",
    "\n",
    "4number = 5                # Cannot start with a digit\n",
    "number-variable = 'World'  # Contains a - sign\n",
    "if = 25"
   ]
  },
  {
   "cell_type": "markdown",
   "id": "98239d10-5f77-4e90-b6a8-4ad6deebde60",
   "metadata": {},
   "source": [
    "What are comments in Python, and why are they useful ? Provide an example"
   ]
  },
  {
   "cell_type": "markdown",
   "id": "3640f879-0947-4fee-b985-51306c7c0ab0",
   "metadata": {},
   "source": [
    "Text within the code are called comments that are ignored by the Python during execution. Explaining the purpose of the code or making the notes for future reference etc they are used. Comments are crucial for enhancing code readability and maintainability, as they help other person to understand the logic behind the cod, any text writtten after # is called comment"
   ]
  },
  {
   "cell_type": "code",
   "execution_count": null,
   "id": "452c1194-0d43-43ed-8c5c-4a63fd60d61f",
   "metadata": {},
   "outputs": [],
   "source": [
    "# THIS IS AN EXAMPLE\n",
    "# b=2+5\n",
    "# print (b) this is also an example"
   ]
  },
  {
   "cell_type": "markdown",
   "id": "1b14025e-9ab2-4671-9b5d-f4598cd9106e",
   "metadata": {},
   "source": [
    "Why is proper indentation important in Python"
   ]
  },
  {
   "cell_type": "markdown",
   "id": "501cb9db-09c2-4b91-8fac-977357372833",
   "metadata": {},
   "source": [
    "In python proper identification is crucial because it is used to define the structure and scope of code blocks. it indicates which statements are grouped together into blocks of code."
   ]
  },
  {
   "cell_type": "markdown",
   "id": "2af6a772-9ccc-4e0c-b36f-0dadba261af8",
   "metadata": {},
   "source": [
    "What happens if indentation is incorrect in Python"
   ]
  },
  {
   "cell_type": "code",
   "execution_count": null,
   "id": "50296fd1-ccea-48eb-8200-fbe0d1c49f33",
   "metadata": {},
   "outputs": [],
   "source": [
    "It will throw a Syntax Error. "
   ]
  },
  {
   "cell_type": "markdown",
   "id": "43c3d92f-75e0-4917-82d4-1aaf63eb1b09",
   "metadata": {},
   "source": [
    "Differentiate between expression and statement in Python with examples"
   ]
  },
  {
   "cell_type": "markdown",
   "id": "5819a89d-55d5-42ba-89bb-7b1d1beef9aa",
   "metadata": {},
   "source": [
    "Expression:\n",
    "\n",
    "A combination of values, variables, operators, and function calls that yields a result is a expresssion.\n",
    "\n",
    "To produce a value expressions can be evaluated.\n",
    "\n",
    "When Python expects a value they can appear anywhere in the code, such as in assignments,or within other expressions.\n",
    "\n",
    "Expressions can include arithmetic operations, comparisons, logical operations etc."
   ]
  },
  {
   "cell_type": "markdown",
   "id": "261e28f8-3ce0-4936-8204-d58c82e7d375",
   "metadata": {},
   "source": [
    "Statement:\n",
    "\n",
    "A complete instruction that performs some action is a statment. It doesn't necessarily return a value.\n",
    "\n",
    "The \"doing\" part of the code are represented by the statement; they perform tasks, such as assignment, looping etc.\n",
    "\n",
    "Statements typically end with a newline character (or a semicolon in some cases).\n",
    "\n",
    "Python executes statements sequentially, one after another, unless control flow constructs like loops or conditionals."
   ]
  },
  {
   "cell_type": "code",
   "execution_count": null,
   "id": "51dade52-a8ac-4bb6-a066-c089d041cfe0",
   "metadata": {},
   "outputs": [],
   "source": [
    "# In example expression\n",
    "\n",
    "# Arithmetic expression\n",
    "result = 5 * (5 / 2)\n",
    "\n",
    "#expression of a function\n",
    "length = len(\"World\")\n",
    "\n",
    "# Comparison expression\n",
    "checkg = 10 > 5\n",
    "\n",
    "# List comprehension expression\n",
    "square = [x**2 for x in range(1, 6)]\n",
    "\n",
    "# example statement\n",
    "\n",
    "# Assignment statement\n",
    "x = 10\n",
    "\n",
    "# Conditional statement (if-else)\n",
    "if x > 67:\n",
    "    print(\"x is greater than 67\")\n",
    "else:\n",
    "    print(\"x is less than or equal to 67\")\n",
    "\n",
    "# Loop statement (while)\n",
    "count = 0\n",
    "while count < 101:\n",
    "    print(count)\n",
    "    count += 1"
   ]
  }
 ],
 "metadata": {
  "kernelspec": {
   "display_name": "Python 3 (ipykernel)",
   "language": "python",
   "name": "python3"
  },
  "language_info": {
   "codemirror_mode": {
    "name": "ipython",
    "version": 3
   },
   "file_extension": ".py",
   "mimetype": "text/x-python",
   "name": "python",
   "nbconvert_exporter": "python",
   "pygments_lexer": "ipython3",
   "version": "3.10.8"
  }
 },
 "nbformat": 4,
 "nbformat_minor": 5
}
